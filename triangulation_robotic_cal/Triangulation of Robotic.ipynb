{
 "cells": [
  {
   "cell_type": "markdown",
   "id": "630995a2",
   "metadata": {},
   "source": [
    "#                Checkpoint 9 Calculation"
   ]
  },
  {
   "cell_type": "markdown",
   "id": "77363ee9",
   "metadata": {},
   "source": [
    "<div>\n",
    "<img src=\"checkpoint9_tf1.jpg\" width=\"800\"/>\n",
    "</div>"
   ]
  },
  {
   "cell_type": "markdown",
   "id": "7ccd56d2",
   "metadata": {},
   "source": [
    "<div>\n",
    "<img src=\"checkpoint9_tf2.jpg\" width=\"800\"/>\n",
    "</div>"
   ]
  },
  {
   "cell_type": "markdown",
   "id": "bf92808c",
   "metadata": {},
   "source": [
    "<div>\n",
    "<img src=\"checkpoint9_tf3.jpg\" width=\"800\"/>\n",
    "</div>"
   ]
  },
  {
   "cell_type": "markdown",
   "id": "28962464",
   "metadata": {},
   "source": [
    "<div>\n",
    "<img src=\"checkpoint9_tf4.jpg\" width=\"800\"/>\n",
    "</div>"
   ]
  },
  {
   "cell_type": "markdown",
   "id": "d2c3ea36",
   "metadata": {},
   "source": [
    "<div>\n",
    "<img src=\"checkpoint9_tf5.jpg\" width=\"800\"/>\n",
    "</div>"
   ]
  },
  {
   "cell_type": "markdown",
   "id": "ca81a104",
   "metadata": {},
   "source": [
    "<div>\n",
    "<img src=\"checkpoint9_tf6.jpg\" width=\"800\"/>\n",
    "</div>"
   ]
  },
  {
   "cell_type": "markdown",
   "id": "6ae241c4",
   "metadata": {},
   "source": [
    "# Explanation\n",
    "position = (x,y) position\n",
    "yet = to be known by calcuation\n",
    "o is at origin of x,y plane\n",
    "\n",
    "## unknown yet to be found\n",
    "- l1, l2 positions are unknown, yet \n",
    "- p is the mid-point along the line l1-l2, thus unknown, yet\n",
    "- alpha1\n",
    "\n",
    "## known value\n",
    "- theta1, theta2 \n",
    "- alpha2\n",
    "- b,c length\n",
    "- a length (from origin of robot to laser)\n",
    "- r radius of the robot \n",
    "\n",
    "## trivial derived known value\n",
    "- l1-l2 length derives from b,c\n",
    "- l1-p, l2-p length derive from l1-l2 length\n",
    "- theta3 derive from theta2\n",
    "- o-l1 derive from a,b, theta3 (cosine law)\n",
    "- laser position\n",
    "\n",
    "## nontrivial derived known value\n",
    "- let d be projection of laser scanner point to line o-l1\n",
    "we can solve 4 equations with 4 unknown by method of substitution, and bisection\n",
    "to find theta31, theta32\n",
    "- alpha3 can be known from theta32\n",
    "- thus l1 can be known by polar coordinate, calculate back to position in cartesian\n",
    "- thus l2, can follow l1 process and find the position\n",
    "- thus p position can be derive from l1,l2 position"
   ]
  },
  {
   "cell_type": "code",
   "execution_count": 1,
   "id": "be80c033",
   "metadata": {},
   "outputs": [],
   "source": [
    "import numpy as np\n",
    "import math"
   ]
  },
  {
   "cell_type": "markdown",
   "id": "9fc5e2d6",
   "metadata": {},
   "source": [
    "# answer\n",
    "l1_ans = np.array([8,6], dtype='f')\n",
    "l2_ans = np.array([10,-2], dtype='f')\n",
    "a = 1\n",
    "alpha2_l1 = math.radians(10)\n",
    "alpha3_add_alpha2_l1_ans = math.atan(l1_ans[1]/l1_ans[0])\n",
    "print(math.degrees(alpha3_add_alpha2_l1_ans))"
   ]
  },
  {
   "cell_type": "markdown",
   "id": "7b4fa5be",
   "metadata": {},
   "source": [
    "# calculate known value\n",
    "import math\n",
    "\n",
    "\n",
    "alpha4_l2_ans = math.atan(l2_ans[1]/l2_ans[0])\n",
    "print('alpha4_l2_ans',alpha4_l2_ans, math.degrees(alpha4_l2_ans))\n",
    "alpha3_l1_ans = alpha3_add_alpha2_l1_ans - alpha2_l1\n",
    "print('alpha3_l1_ans',alpha3_l1_ans)\n",
    "theta_32_l1_ans = math.radians(90) - alpha3_l1_ans \n",
    "laser = np.array([a* math.cos(alpha2_l1),a*math.sin(alpha2_l1)] ,dtype ='f')\n",
    "print('laser',laser)\n",
    "theta1_l2 = math.atan((l2_ans[1] - laser[1])/(l2_ans[0]-laser[0]))- alpha2_l1\n",
    "l2_laser_diff_ans = l2_ans - laser\n",
    "theta1_l2 = math.acos(np.dot(l2_laser_diff_ans, laser)/(np.linalg.norm(l2_laser_diff_ans)*np.linalg.norm(laser)))\n",
    "print('theta1_l2',theta1_l2)\n",
    "theta2_l1 = math.atan((l1_ans[1] - laser[1])/(l1_ans[0]-laser[0]))- alpha2_l1\n",
    "print('theta2_l1 ',theta2_l1 )\n",
    "theta3_l1 = math.radians(180) - theta2_l1\n",
    "theta4_l2 = math.radians(180) - theta1_l2\n",
    "print('theta3_l1', theta3_l1, math.degrees(theta3_l1))\n",
    "print('theta4_l2', theta4_l2, math.degrees(theta4_l2))\n",
    "b = math.sqrt((l1_ans[1] - laser[1])**2+(l1_ans[0] - laser[0])**2)\n",
    "c = math.sqrt((l2_ans[1] - laser[1])**2+(l2_ans[0] - laser[0])**2)\n",
    "print('b,c',b,c)\n",
    "ol1 = math.sqrt(a**2+b**2-2*a*b*math.cos(theta3_l1))\n",
    "ol1_ans = math.sqrt(l1_ans[0]**2+l1_ans[1]**2)\n",
    "ol2 = math.sqrt(a**2+c**2-2*a*c*math.cos(theta4_l2))\n",
    "ol2_ans = math.sqrt(l2_ans[0]**2+l2_ans[1]**2)\n",
    "d_ans = l1_ans*np.dot(l1_ans,laser)/ol1_ans**2\n",
    "l1d_ans = math.sqrt((l1_ans[0] - d_ans[0])**2 + (l1_ans[1] - d_ans[1])**2)\n",
    "theta31_ans = math.asin(l1d_ans/b)\n",
    "print(laser,b)\n",
    "print(math.degrees(theta2_l1))\n",
    "print('ol1',ol1,ol1_ans)\n",
    "print('ol2',ol2,ol2_ans)\n",
    "print(math.degrees(theta31_ans))"
   ]
  },
  {
   "cell_type": "code",
   "execution_count": 2,
   "id": "6190690e",
   "metadata": {},
   "outputs": [],
   "source": [
    "def f(x,a,b,theta3,ol1):\n",
    "    return b*math.sin(x)+a*math.sin(theta3 - x) - ol1"
   ]
  },
  {
   "cell_type": "code",
   "execution_count": 3,
   "id": "0b04b627",
   "metadata": {},
   "outputs": [],
   "source": [
    "def fprime(x,a,b,theta3,ol1):\n",
    "    return b*math.cos(x) - a*math.cos(theta3 - x)"
   ]
  },
  {
   "cell_type": "markdown",
   "id": "0f39addb",
   "metadata": {},
   "source": [
    "print(f(math.radians(87.15918799293077),a,b,theta3_l1,ol1))\n",
    "print(f(math.radians(-10),a,b,theta3_l1,ol1))"
   ]
  },
  {
   "cell_type": "markdown",
   "id": "8d42944c",
   "metadata": {},
   "source": [
    "def newton_method(x,a,b,theta3,ol1):\n",
    "    val = f(x,a,b,theta3,ol1)\n",
    "    while(abs(val)>0.0000001):\n",
    "        x = x - f(x,a,b,theta3,ol1)/fprime(x,a,b,theta3,ol1)\n",
    "        val =  f(x,a,b,theta3,ol1)\n",
    "    return x,val"
   ]
  },
  {
   "cell_type": "markdown",
   "id": "d947f1d3",
   "metadata": {},
   "source": [
    "# Test newton_method\n",
    "x_test_newton_method, val_test_newton_method = newton_method(math.radians(30),a,b,theta3_l1,ol1)\n",
    "print(math.degrees(x_test_newton_method),val_test_newton_method )"
   ]
  },
  {
   "cell_type": "markdown",
   "id": "e881e81a",
   "metadata": {},
   "source": [
    "# Calculate theta31_l1 with newton method\n",
    "theta31_l1,_  = newton_method(math.radians(30),a,b,theta3_l1,ol1)\n",
    "theta32_l1 = theta3_l1 - theta31_l1\n",
    "alpha3_l1 = math.radians(90) - theta32_l1 \n",
    "print(theta31_l1)\n",
    "print(alpha3_l1)"
   ]
  },
  {
   "cell_type": "markdown",
   "id": "b33af24c",
   "metadata": {},
   "source": [
    "# Calculate theta42_l2 with newton method\n",
    "theta41_l2,_  = newton_method(math.radians(30),a,c,theta4_l2,ol2)\n",
    "theta42_l2 = theta4_l2 - theta41_l2\n",
    "alpha4_l2 = -1*(math.radians(90) - theta42_l2  - alpha2_l1 )\n",
    "print(theta42_l2 )\n",
    "print(alpha4_l2)"
   ]
  },
  {
   "cell_type": "markdown",
   "id": "d3032d36",
   "metadata": {},
   "source": [
    "# Calculate theta31_l1 with law of cosine\n",
    "# sin(alpha3_l1)/b = sin(theta3)/ol1\n",
    "# alpha3_l1= arc_sin(b/ol1*sin(theta3))\n",
    "alpha3_l1 = math.asin(b/ol1*math.sin(theta3_l1))\n",
    "print(alpha3_l1)"
   ]
  },
  {
   "cell_type": "markdown",
   "id": "005d4c69",
   "metadata": {},
   "source": [
    "# Calculate theta42_l2 with law of cosine\n",
    "# sin(alpha4_l2)/a = sin(theta4)/ol2\n",
    "# alpha4_l2_add_alpha2 = arc_sin(c/ol2*sin(theta4))\n",
    "alpha4_l2_add_alpha2 = math.asin(c/ol2*math.sin(theta4_l2))\n",
    "alpha4_l2 =-(alpha4_l2_add_alpha2 - alpha2_l1)\n",
    "print(alpha4_l2)"
   ]
  },
  {
   "cell_type": "markdown",
   "id": "1f6ba616",
   "metadata": {},
   "source": [
    "l1y = ol1*math.sin(alpha2_l1+alpha3_l1)\n",
    "l1x = ol1*math.cos(alpha2_l1+alpha3_l1)\n",
    "l1 = np.array([l1x,l1y])\n",
    "print(l1x,l1y,l1)"
   ]
  },
  {
   "cell_type": "markdown",
   "id": "aa9d401b",
   "metadata": {},
   "source": [
    "def find_leg_position(a,b,c,theta1,theta2,alpha2):\n",
    "    laser = np.array([a* math.cos(alpha2),a*math.sin(alpha2)] ,dtype ='f')\n",
    "    theta3 = math.radians(180) - theta2\n",
    "    theta4 = math.radians(180) - theta1\n",
    "    print('theta3',math.degrees(theta3))\n",
    "    print('theta4',math.degrees(theta4))\n",
    "    ol1 = math.sqrt(a**2+b**2-2*a*b*math.cos(theta3))\n",
    "    ol2 = math.sqrt(a**2+c**2-2*a*c*math.cos(theta4)) \n",
    "    print('ol2',ol2)\n",
    "    alpha3 = math.asin(b/ol1*math.sin(theta3))\n",
    "    print('alpha3',alpha3)\n",
    "    alpha4_plus_alpha2 = math.asin(c/ol2*math.sin(theta4))\n",
    "    print('alpha4_plus_alpha2',alpha4_plus_alpha2)\n",
    "    alpha4 =   alpha2 -alpha4_plus_alpha2\n",
    "    print('alpha4',alpha4, math.degrees(alpha4))\n",
    "    l1y = ol1*math.sin(alpha2+alpha3)\n",
    "    l1x = ol1*math.cos(alpha2+alpha3)\n",
    "    l2y = ol2*math.sin(alpha4)\n",
    "    l2x = ol2*math.cos(alpha4)\n",
    "    return np.array([l1x,l1y]), np.array([l2x,l2y])"
   ]
  },
  {
   "cell_type": "markdown",
   "id": "c6698800",
   "metadata": {},
   "source": [
    "print(a,b,c,theta1_l2,theta2_l1,alpha2_l1)\n",
    "leg1, leg2 = find_leg_position(a,b,c,theta1_l2,theta2_l1,alpha2_l1)\n",
    "print(leg1,leg2)\n"
   ]
  },
  {
   "cell_type": "code",
   "execution_count": 4,
   "id": "c8491a00",
   "metadata": {},
   "outputs": [
    {
     "name": "stdout",
     "output_type": "stream",
     "text": [
      "64.44003510322344\n",
      "alpha2 0.17453292519943295\n",
      "laser [4.924039  0.8682409]\n",
      "b 7.21246706257271\n",
      "c 5.830281871243811\n",
      "0.31861937 0.77196634\n",
      "theta1 1.24652373718018\n",
      "theta2 -0.6888675951149327\n",
      "71.42054920329898 -39.469205843412446\n"
     ]
    }
   ],
   "source": [
    "l1_ans = np.array([6,8], dtype='f')  \n",
    "l2_ans = np.array([10,-2], dtype='f')\n",
    "theta_l1l2_ans =  math.acos(np.dot(l1_ans,l2_ans)/(np.linalg.norm(l1_ans)*np.linalg.norm(l2_ans)))\n",
    "print(math.degrees(theta_l1l2_ans))\n",
    "assert(math.radians(180) >abs(theta_l1l2_ans) > math.radians(20))\n",
    "assert(l1_ans[1]>l2_ans[1])\n",
    "a = 5\n",
    "alpha2 = math.radians(10)\n",
    "print('alpha2',alpha2)\n",
    "laser = np.array([a* math.cos(alpha2),a*math.sin(alpha2)] ,dtype ='f')\n",
    "print('laser',laser)\n",
    "b = math.sqrt((l1_ans[1] - laser[1])**2+(l1_ans[0] - laser[0])**2)\n",
    "c = math.sqrt((l2_ans[1] - laser[1])**2+(l2_ans[0] - laser[0])**2)\n",
    "print('b',b)\n",
    "print('c',c)\n",
    "l2_laser_diff_ans = l2_ans - laser\n",
    "l1_laser_diff_ans = l1_ans - laser\n",
    "linear_algebra2 = np.dot(l2_laser_diff_ans, laser)/(np.linalg.norm(l2_laser_diff_ans)*np.linalg.norm(laser))\n",
    "theta2 = -math.acos(linear_algebra2)\n",
    "linear_algebra1 = np.dot(l1_laser_diff_ans, laser)/(np.linalg.norm(l1_laser_diff_ans)*np.linalg.norm(laser))\n",
    "theta1 = math.acos(linear_algebra1)\n",
    "print(linear_algebra1, linear_algebra2)\n",
    "\n",
    "assert(1-abs(linear_algebra1)>0.1)\n",
    "assert(1-abs(linear_algebra2)>0.1)\n",
    "print('theta1',theta1)\n",
    "print('theta2',theta2)\n",
    "print(math.degrees(theta1),math.degrees(theta2))"
   ]
  },
  {
   "cell_type": "code",
   "execution_count": 5,
   "id": "2fae8a51",
   "metadata": {},
   "outputs": [
    {
     "name": "stdout",
     "output_type": "stream",
     "text": [
      "[5.99999988 8.00000008] [10.00000022 -1.99999955]\n"
     ]
    }
   ],
   "source": [
    "laser_to_l1 = np.array([b*math.cos(alpha2+theta1),b*math.sin(alpha2+theta1)])\n",
    "laser_to_l2 = np.array([c*math.cos(alpha2+theta2),c*math.sin(alpha2+theta2)])\n",
    "l1 = laser + laser_to_l1\n",
    "l2 = laser + laser_to_l2\n",
    "print(l1,l2)"
   ]
  },
  {
   "cell_type": "code",
   "execution_count": 6,
   "id": "b32a8785",
   "metadata": {},
   "outputs": [
    {
     "name": "stdout",
     "output_type": "stream",
     "text": [
      "[[ 0.9848077  -0.17364818]\n",
      " [ 0.17364818  0.9848077 ]]\n",
      "[2.2980318 6.8365736] [ 4.500781  -3.7060966] [3.3994064 1.5652385]\n"
     ]
    }
   ],
   "source": [
    "RotationMatrix = np.array([[math.cos(alpha2), -math.sin(alpha2)],[math.sin(alpha2),math.cos(alpha2)]],dtype='f')\n",
    "print(RotationMatrix)\n",
    "l1_laser_coordinate = b*np.array([math.cos(theta1), math.sin(theta1)], dtype='f')\n",
    "l2_laser_coordinate = c*np.array([math.cos(theta2), math.sin(theta2)], dtype='f')\n",
    "lmid_laser_coordinate = (l1_laser_coordinate+l2_laser_coordinate )/2\n",
    "print(l1_laser_coordinate, l2_laser_coordinate,lmid_laser_coordinate)"
   ]
  },
  {
   "cell_type": "code",
   "execution_count": 7,
   "id": "5841fc39",
   "metadata": {},
   "outputs": [
    {
     "name": "stdout",
     "output_type": "stream",
     "text": [
      "[6.       8.000001] [10.        -1.9999995] [8.        3.0000005]\n"
     ]
    }
   ],
   "source": [
    "l1_o = np.dot(RotationMatrix, l1_laser_coordinate) + laser\n",
    "l2_o = np.dot( RotationMatrix, l2_laser_coordinate) + laser;\n",
    "lmid_o =  np.dot( RotationMatrix, lmid_laser_coordinate) + laser;\n",
    "print(l1_o,l2_o,lmid_o)"
   ]
  },
  {
   "cell_type": "raw",
   "id": "acf44c74",
   "metadata": {},
   "source": [
    "#include <iostream>\n",
    "#include <cmath>\n",
    "#include <tuple>\n",
    "std::tuple<double, double> get_pmid(double l1x, double l1y, double l2x, double l2y,\n",
    "double a, double b, double c, double alpha2, double theta1, double theta2, \n",
    "double laserx, double lasery){\n",
    "   double R11 = std::cos(alpha2);\n",
    "   double R12 = -1*std::sin(alpha2);\n",
    "   double R21 = std::sin(alpha2);\n",
    "   double R22 = std::cos(alpha2);\n",
    "\n",
    "   double P1x_laser_coordinate = b*std::cos(theta1);\n",
    "   double P1y_laser_coordinate = b*std::sin(theta1);\n",
    "   double P2x_laser_coordinate = c*std::cos(theta2);\n",
    "   double P2y_laser_coordinate = c*std::sin(theta2);\n",
    "\n",
    "   double P1x_origin_coordinate =  R11*P1x_laser_coordinate +R12*P1y_laser_coordinate + laserx;\n",
    "   double P1y_origin_coordinate =  R21*P1x_laser_coordinate +R22*P1y_laser_coordinate + lasery;\n",
    "   double P2x_origin_coordinate =  R11*P2x_laser_coordinate +R12*P2y_laser_coordinate + laserx;\n",
    "   double P2y_origin_coordinate =  R21*P2x_laser_coordinate +R22*P2y_laser_coordinate + lasery;\n",
    "\n",
    "   double Pmidx_origin_coordinate = (P1x_origin_coordinate + P2x_origin_coordinate)/2;\n",
    "   double Pmidy_origin_coordinate = (P1y_origin_coordinate + P2y_origin_coordinate)/2;\n",
    "\n",
    "    return std::tuple<double,double>{Pmidx_origin_coordinate,Pmidy_origin_coordinate};\n",
    "}"
   ]
  },
  {
   "cell_type": "raw",
   "id": "6485293d",
   "metadata": {},
   "source": [
    "int main(void){\n",
    "   std::cout<<\"Calculating linear algebra\"<<std::endl;\n",
    "   double l1x = 9.0, l1y = 9.0;\n",
    "   double l2x = 13.0, l2y = 13.0;\n",
    "   double a=5.0, b= 9.096095777031929, c= 16.048341501040234;\n",
    "   double alpha2 = 0.17453292519943295;\n",
    "   double theta1 = 0.9316244114221828,theta2 = -1.2180000512628104;\n",
    "   double laserx = 4.924039;\n",
    "   double lasery = 0.8682409;\n",
    "\n",
    "   double R11 = std::cos(alpha2);\n",
    "   double R12 = -1*std::sin(alpha2);\n",
    "   double R21 = std::sin(alpha2);\n",
    "   double R22 = std::cos(alpha2);\n",
    "\n",
    "   double P1x_laser_coordinate = b*std::cos(theta1);\n",
    "   double P1y_laser_coordinate = b*std::sin(theta1);\n",
    "   double P2x_laser_coordinate = c*std::cos(theta2);\n",
    "   double P2y_laser_coordinate = c*std::sin(theta2);\n",
    "\n",
    "   double P1x_origin_coordinate =  R11*P1x_laser_coordinate +R12*P1y_laser_coordinate + laserx;\n",
    "   double P1y_origin_coordinate =  R21*P1x_laser_coordinate +R22*P1y_laser_coordinate + lasery;\n",
    "   double P2x_origin_coordinate =  R11*P2x_laser_coordinate +R12*P2y_laser_coordinate + laserx;\n",
    "   double P2y_origin_coordinate =  R21*P2x_laser_coordinate +R22*P2y_laser_coordinate + lasery;\n",
    "\n",
    "   std::cout<<\"P1 = [\"<<P1x_origin_coordinate<<\",\"<<P1y_origin_coordinate<<\"]\"<<std::endl;\n",
    "   std::cout<<\"P2 = [\"<<P2x_origin_coordinate<<\",\"<<P2y_origin_coordinate<<\"]\"<<std::endl;\n",
    "\n",
    "   double Pmidx_origin_coordinate = (P1x_origin_coordinate + P2x_origin_coordinate)/2;\n",
    "   double Pmidy_origin_coordinate = (P1y_origin_coordinate + P2y_origin_coordinate)/2;\n",
    "   std::cout<<\"Pmid = [\"<<Pmidx_origin_coordinate<<\",\"<<Pmidy_origin_coordinate<<\"]\"<<std::endl;\n",
    "\n",
    "   std::cout<<\"-------using function----\"<<std::endl;\n",
    "  \n",
    "   std::tuple<double, double> result_pmid = get_pmid(l1x,l1y,l2x,l2y,a,b,c,alpha2,theta1,theta2,laserx,lasery);\n",
    "   double Pmidx_origin = std::get<0>(result_pmid);\n",
    "   double Pmidy_origin = std::get<1>(result_pmid); \n",
    "   std::cout<<\"Pmid = [\"<<Pmidx_origin<<\",\"<<Pmidy_origin<<\"]\"<<std::endl;\n",
    "\n",
    "  return 0;\n",
    "}"
   ]
  },
  {
   "cell_type": "markdown",
   "id": "f0bddf9c",
   "metadata": {},
   "source": [
    "## Finding a perpendiculat vector to P1-P2 in Laser Coordinate"
   ]
  },
  {
   "cell_type": "markdown",
   "id": "72d7b7bd-9725-4386-9935-16d49314476c",
   "metadata": {},
   "source": [
    "<div>\n",
    "<img src=\"cart_frame_direction1.jpg\" width=\"800\"/>\n",
    "</div>"
   ]
  },
  {
   "cell_type": "markdown",
   "id": "6ff6bc15-19a8-4f6a-a071-13e4dd6e8838",
   "metadata": {},
   "source": [
    "<div>\n",
    "<img src=\"cart_frame_direction2.jpg\" width=\"800\"/>\n",
    "</div>"
   ]
  },
  {
   "cell_type": "code",
   "execution_count": 8,
   "id": "66ecd940",
   "metadata": {},
   "outputs": [
    {
     "name": "stdout",
     "output_type": "stream",
     "text": [
      "[  2.2027493 -10.54267  ]\n"
     ]
    }
   ],
   "source": [
    "l1_to_l2_laser_coordinate = l2_laser_coordinate - l1_laser_coordinate\n",
    "print(l1_to_l2_laser_coordinate)"
   ]
  },
  {
   "cell_type": "raw",
   "id": "e22311ec",
   "metadata": {},
   "source": [
    "l1_to_l2_laser_coordinate[0]*x + l1_to_l2_laser_coordinate[1]*y = 0 ; given x=1\n",
    "y = -l1_to_l2_laser_coordinate[0]/l1_to_l2_laser_coordinate[1]"
   ]
  },
  {
   "cell_type": "code",
   "execution_count": 9,
   "id": "511ee4b6",
   "metadata": {},
   "outputs": [
    {
     "name": "stdout",
     "output_type": "stream",
     "text": [
      "[1.         0.20893656]\n",
      "2.6879192205342406e-08\n"
     ]
    }
   ],
   "source": [
    "perpen_l1_to_l2_laser_coordinate_x__1 = 1\n",
    "perpen_l1_to_l2_laser_coordinate_y__1 = -l1_to_l2_laser_coordinate[0]/l1_to_l2_laser_coordinate[1]\n",
    "perpen_l1_to_l2_laser_coordinate__1 = np.array([perpen_l1_to_l2_laser_coordinate_x__1 ,perpen_l1_to_l2_laser_coordinate_y__1])\n",
    "print(perpen_l1_to_l2_laser_coordinate__1 )\n",
    "print(np.dot(perpen_l1_to_l2_laser_coordinate__1, l1_to_l2_laser_coordinate ))"
   ]
  },
  {
   "cell_type": "code",
   "execution_count": 10,
   "id": "1a1cae7a",
   "metadata": {},
   "outputs": [
    {
     "name": "stdout",
     "output_type": "stream",
     "text": [
      "[-1.         -0.20893656]\n",
      "-2.6879192205342406e-08\n"
     ]
    }
   ],
   "source": [
    "perpen_l1_to_l2_laser_coordinate_x__2 = -1\n",
    "perpen_l1_to_l2_laser_coordinate_y__2 = l1_to_l2_laser_coordinate[0]/l1_to_l2_laser_coordinate[1]\n",
    "perpen_l1_to_l2_laser_coordinate__2 = np.array([perpen_l1_to_l2_laser_coordinate_x__2 ,perpen_l1_to_l2_laser_coordinate_y__2])\n",
    "print(perpen_l1_to_l2_laser_coordinate__2 )\n",
    "print(np.dot(perpen_l1_to_l2_laser_coordinate__2, l1_to_l2_laser_coordinate ))"
   ]
  },
  {
   "cell_type": "code",
   "execution_count": 11,
   "id": "1c0d2bf1",
   "metadata": {},
   "outputs": [
    {
     "name": "stdout",
     "output_type": "stream",
     "text": [
      "0.22553221162218626\n",
      "12.922043870202605\n"
     ]
    }
   ],
   "source": [
    "yaw_degree_perpendicular_Pmid = math.acos(np.dot(perpen_l1_to_l2_laser_coordinate__1,lmid_laser_coordinate)\\\n",
    "                                          /(np.linalg.norm(perpen_l1_to_l2_laser_coordinate__1)*np.linalg.norm(lmid_laser_coordinate)))\n",
    "print(yaw_degree_perpendicular_Pmid)\n",
    "print(math.degrees(yaw_degree_perpendicular_Pmid))"
   ]
  },
  {
   "cell_type": "code",
   "execution_count": null,
   "id": "ad95a35d",
   "metadata": {},
   "outputs": [],
   "source": []
  }
 ],
 "metadata": {
  "kernelspec": {
   "display_name": "Python 3 (ipykernel)",
   "language": "python",
   "name": "python3"
  },
  "language_info": {
   "codemirror_mode": {
    "name": "ipython",
    "version": 3
   },
   "file_extension": ".py",
   "mimetype": "text/x-python",
   "name": "python",
   "nbconvert_exporter": "python",
   "pygments_lexer": "ipython3",
   "version": "3.8.10"
  }
 },
 "nbformat": 4,
 "nbformat_minor": 5
}
